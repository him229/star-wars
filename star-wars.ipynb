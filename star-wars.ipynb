{
 "cells": [
  {
   "cell_type": "code",
   "execution_count": 44,
   "metadata": {
    "collapsed": false
   },
   "outputs": [],
   "source": [
    "import requests\n",
    "import json\n",
    "\n",
    "def get_repo_data(target_stars, date_since, file_name):\n",
    "    \"\"\"\n",
    "    This block gets all the popular repo data from Github.\n",
    "    \"\"\"\n",
    "    json_content = {'data': []}\n",
    "    for i in xrange(1,11):\n",
    "        url = 'https://api.github.com/search/repositories?q=created:%3E{}+stars:%3E{}&sort=stars&order=desc&per_page=100&page={}'.format(date_since, target_stars, i)\n",
    "        res = requests.get(url)\n",
    "        json_content['data'] += res.json()['items']\n",
    "    #saves the data to a file in json format\n",
    "    with open(file_name, 'w') as f:\n",
    "        f.write(json.dumps(json_content, sort_keys=True, indent=4, separators=(',', ': ')))"
   ]
  },
  {
   "cell_type": "code",
   "execution_count": 45,
   "metadata": {
    "collapsed": true
   },
   "outputs": [],
   "source": [
    "\"\"\"\n",
    "Test get repo data function\n",
    "\"\"\"\n",
    "def get_repo_master_data():\n",
    "    \"\"\"\n",
    "    Defines what 'popular' for a repo means\n",
    "    \"\"\"\n",
    "    target_stars = 5000\n",
    "    date_since = '2000-11-06'\n",
    "    file_name = 'repo_master_data_json.txt' # File where repo info is stored\n",
    "    get_repo_data(target_stars, date_since, file_name)"
   ]
  },
  {
   "cell_type": "code",
   "execution_count": 54,
   "metadata": {
    "collapsed": false
   },
   "outputs": [],
   "source": [
    "# UNCOMMENT the line below to fetch info for popular repos\n",
    "\n",
    "# get_repo_master_data()"
   ]
  },
  {
   "cell_type": "code",
   "execution_count": 55,
   "metadata": {
    "collapsed": false,
    "scrolled": true
   },
   "outputs": [],
   "source": [
    "file_name = 'repo_master_data_json.txt' # File where most popular repo info is stored\n",
    "\n",
    "def test_popular_repos_file(file_name, num):\n",
    "    with open(file_name, 'r') as f:\n",
    "        data = json.load(f)\n",
    "        print len(data['data'])\n",
    "    print json.dumps(data['data'][num], sort_keys=True, indent=4, separators=(',', ': '))\n",
    "\n",
    "# UNCOMMENT below to test any entry in the popular repos file    \n",
    "    \n",
    "# test_popular_repos_file(file_name, 0)"
   ]
  },
  {
   "cell_type": "code",
   "execution_count": null,
   "metadata": {
    "collapsed": true
   },
   "outputs": [],
   "source": [
    "from configobj import ConfigObj\n",
    "\n",
    "\"\"\"\n",
    "Github API keys\n",
    "\"\"\"\n",
    "\n",
    "config = ConfigObj('config.ini')\n",
    "client_id = config['github_api_id']\n",
    "client_secret = config['github_api_secret']\n",
    "\n",
    "GITHUB_AUTH = '?client_id={}&client_secret={}'.format(client_id, client_secret)"
   ]
  },
  {
   "cell_type": "code",
   "execution_count": 56,
   "metadata": {
    "collapsed": false
   },
   "outputs": [],
   "source": [
    "def get_repo_commit_data(file_name, repo_master_file_name):\n",
    "    \"\"\"\n",
    "    Gets commit data for each repo inside the popular repos file\n",
    "    \"\"\"\n",
    "    with open(repo_master_file_name, 'r') as f:\n",
    "        master_data = json.load(f) # reads file with most popular repos into a dict\n",
    "        commits_data = {}\n",
    "        for repo in master_data['data']:\n",
    "            # commits_url, name\n",
    "            url = repo['commits_url']\n",
    "            commits_url = url[:len(url)-6] + GITHUB_AUTH\n",
    "            res = requests.get(commits_url)\n",
    "            commits_data[repo['id']] = {'name': repo['name'], 'commits': res.json()}\n",
    "            print repo['name'], len(commits_data), res.status_code\n",
    "\n",
    "        # wirtes the commit_data dict to a file\n",
    "        with open(file_name, 'w') as f:\n",
    "            f.write(json.dumps(commits_data, sort_keys=True, indent=4, separators=(',', ': ')))"
   ]
  },
  {
   "cell_type": "code",
   "execution_count": 57,
   "metadata": {
    "collapsed": false
   },
   "outputs": [],
   "source": [
    "# UNCOMMENT the line below to fetch commit info for popular repos\n",
    "\n",
    "#get_repo_commit_data('repo_commit_data_json.txt', 'repo_master_data_json.txt')"
   ]
  },
  {
   "cell_type": "code",
   "execution_count": 60,
   "metadata": {
    "collapsed": false
   },
   "outputs": [
    {
     "name": "stdout",
     "output_type": "stream",
     "text": [
      "1000\n"
     ]
    }
   ],
   "source": [
    "def test_count_commits_info_repos(file_name):\n",
    "    with open(file_name, 'r') as f:\n",
    "        commit_data = json.load(f)\n",
    "        print len(commit_data)\n",
    "        \n",
    "# UNCOMMENT below to test the count\n",
    "        \n",
    "# file_name = 'repo_commit_data_json.txt'\n",
    "# test_count_commits_info_repos(file_name)"
   ]
  },
  {
   "cell_type": "code",
   "execution_count": 61,
   "metadata": {
    "collapsed": false,
    "scrolled": true
   },
   "outputs": [],
   "source": [
    "\n",
    "def get_repo_commit_data(file_name, repo_master_file_name):\n",
    "    \"\"\"\n",
    "    Get all the contributor information\n",
    "    \"\"\"\n",
    "    with open(repo_master_file_name, 'r') as f:\n",
    "        master_data = json.load(f)\n",
    "        contributor_data = {}\n",
    "        for repo in master_data['data']:\n",
    "            url = repo['contributors_url'] + GITHUB_AUTH\n",
    "            res = requests.get(url)\n",
    "            contributor_data[repo['id']] = {'name': repo['name'], 'contributors': res.json()}\n",
    "            print repo['id'], repo['name'], len(contributor_data), res.status_code\n",
    "        with open(file_name, 'w') as f:\n",
    "            f.write(json.dumps(contributor_data, sort_keys=True, indent=4, separators=(',', ': ')))"
   ]
  },
  {
   "cell_type": "code",
   "execution_count": 62,
   "metadata": {
    "collapsed": true
   },
   "outputs": [],
   "source": [
    "# UNCOMMENT the line below to fetch commit info for popular repos\n",
    "\n",
    "#get_repo_commit_data('repo_contributor_data_json.txt', 'repo_master_data_json.txt')"
   ]
  },
  {
   "cell_type": "code",
   "execution_count": null,
   "metadata": {
    "collapsed": true
   },
   "outputs": [],
   "source": []
  },
  {
   "cell_type": "code",
   "execution_count": null,
   "metadata": {
    "collapsed": true
   },
   "outputs": [],
   "source": []
  }
 ],
 "metadata": {
  "anaconda-cloud": {},
  "kernelspec": {
   "display_name": "Python [cs489]",
   "language": "python",
   "name": "Python [cs489]"
  },
  "language_info": {
   "codemirror_mode": {
    "name": "ipython",
    "version": 2
   },
   "file_extension": ".py",
   "mimetype": "text/x-python",
   "name": "python",
   "nbconvert_exporter": "python",
   "pygments_lexer": "ipython2",
   "version": "2.7.12"
  }
 },
 "nbformat": 4,
 "nbformat_minor": 1
}
