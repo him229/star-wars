{
 "cells": [
  {
   "cell_type": "code",
   "execution_count": null,
   "metadata": {
    "collapsed": false
   },
   "outputs": [],
   "source": [
    "\"\"\"\n",
    "This block gets all the popular repo data from Github\n",
    "\"\"\"\n",
    "import requests\n",
    "import json\n",
    "target_stars = 5000\n",
    "date_since = '2000-11-06'\n",
    "json_content = {'data': []}\n",
    "for i in xrange(1,11):\n",
    "    url = 'https://api.github.com/search/repositories?q=created:%3E{}+stars:%3E{}&sort=stars&order=desc&per_page=100&page={}'.format(date_since, target_stars, i)\n",
    "    res = requests.get(url)\n",
    "    json_content['data'] += res.json()['items']"
   ]
  },
  {
   "cell_type": "code",
   "execution_count": null,
   "metadata": {
    "collapsed": true
   },
   "outputs": [],
   "source": [
    "\"\"\"\n",
    "This block saves the data to a file in json format\n",
    "\"\"\"\n",
    "file_name = 'data_json.txt'\n",
    "with open(file_name, 'w') as f:\n",
    "    f.write(json.dumps(json_content, sort_keys=True, indent=4, separators=(',', ': ')))"
   ]
  },
  {
   "cell_type": "code",
   "execution_count": null,
   "metadata": {
    "collapsed": false
   },
   "outputs": [],
   "source": [
    "\"\"\"\n",
    "Testing\n",
    "\"\"\"\n",
    "import pprint\n",
    "with open(file_name, 'r') as f:\n",
    "    data = json.load(f)\n",
    "    print len(data['data'])\n",
    "print json.dumps(data['data'][0], sort_keys=True, indent=4, separators=(',', ': '))"
   ]
  }
 ],
 "metadata": {
  "anaconda-cloud": {},
  "kernelspec": {
   "display_name": "Python [conda root]",
   "language": "python",
   "name": "conda-root-py"
  },
  "language_info": {
   "codemirror_mode": {
    "name": "ipython",
    "version": 2
   },
   "file_extension": ".py",
   "mimetype": "text/x-python",
   "name": "python",
   "nbconvert_exporter": "python",
   "pygments_lexer": "ipython2",
   "version": "2.7.12"
  }
 },
 "nbformat": 4,
 "nbformat_minor": 1
}
