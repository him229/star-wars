{
 "cells": [
  {
   "cell_type": "code",
   "execution_count": null,
   "metadata": {
    "collapsed": false
   },
   "outputs": [],
   "source": [
    "import json\n",
    "import pandas as pd\n",
    "import sklearn\n",
    "import seaborn\n",
    "\n",
    "df = pd.read_json('all_data_array.json')"
   ]
  },
  {
   "cell_type": "code",
   "execution_count": null,
   "metadata": {
    "collapsed": false
   },
   "outputs": [],
   "source": [
    "df.head()\n",
    "df = df[df.branches_count != -1]\n",
    "df = df[df.contributors_count != -1]\n",
    "#df[['COL2', 'COL4']] = df[['COL2', 'COL4']].astype(int)\n",
    "\n",
    "type_data = str(df.dtypes).split()\n",
    "for i in xrange(0,len(type_data),2):\n",
    "    column_name = type_data[i]\n",
    "    column_type = type_data[i+1]\n",
    "    if column_type == 'bool':\n",
    "        df[column_name] = df[column_name].astype(int)\n",
    "\n",
    "df.describe()"
   ]
  },
  {
   "cell_type": "code",
   "execution_count": null,
   "metadata": {
    "collapsed": false
   },
   "outputs": [],
   "source": [
    "df.name"
   ]
  },
  {
   "cell_type": "code",
   "execution_count": 5,
   "metadata": {
    "collapsed": false,
    "scrolled": true
   },
   "outputs": [
    {
     "data": {
      "text/plain": [
       "{u'AngularJS-Learning',\n",
       " u'Best-App',\n",
       " u'Front-end-Developer-Interview-Questions',\n",
       " u'HEAD',\n",
       " u'HowToBeAProgrammer',\n",
       " u'PokemonGo-Map',\n",
       " u'Projects',\n",
       " u'Qix',\n",
       " u'ToolsOfTheTrade',\n",
       " u'android-architecture',\n",
       " u'android-open-project',\n",
       " u'android-open-project-analysis',\n",
       " u'android_guides',\n",
       " u'angular-styleguide',\n",
       " u'awesome',\n",
       " u'awesome-android-ui',\n",
       " u'awesome-awesomeness',\n",
       " u'awesome-courses',\n",
       " u'awesome-cpp',\n",
       " u'awesome-design',\n",
       " u'awesome-electron',\n",
       " u'awesome-interview-questions',\n",
       " u'awesome-ios-ui',\n",
       " u'awesome-java',\n",
       " u'awesome-javascript',\n",
       " u'awesome-nodejs',\n",
       " u'awesome-osx-command-line',\n",
       " u'awesome-php',\n",
       " u'awesome-public-datasets',\n",
       " u'awesome-react',\n",
       " u'awesome-react-components',\n",
       " u'awesome-remote-job',\n",
       " u'awesome-ruby',\n",
       " u'awesome-shell',\n",
       " u'awesome-stock-resources',\n",
       " u'awesome-sysadmin',\n",
       " u'awesome-vue',\n",
       " u'awesome-wpo',\n",
       " u'blog',\n",
       " u'computer-science',\n",
       " u'css-modules',\n",
       " u'css-protips',\n",
       " u'deepdream',\n",
       " u'design',\n",
       " u'dive-into-machine-learning',\n",
       " u'docker-cheat-sheet',\n",
       " u'email-blueprints',\n",
       " u'es6features',\n",
       " u'favicon-cheat-sheet',\n",
       " u'fig-standards',\n",
       " u'flexbugs',\n",
       " u'free-for-dev',\n",
       " u'free-programming-books',\n",
       " u'frontend-dev-bookmarks',\n",
       " u'frontend-guidelines',\n",
       " u'frontend-stuff',\n",
       " u'functional-programming-jargon',\n",
       " u'games',\n",
       " u'github-cheat-sheet',\n",
       " u'gitignore',\n",
       " u'go',\n",
       " u'google-interview-university',\n",
       " u'hosts',\n",
       " u'htaccess',\n",
       " u'http-api-design',\n",
       " u'idiomatic.js',\n",
       " u'ipfs',\n",
       " u'javascript-in-one-pic',\n",
       " u'javascript-patterns',\n",
       " u'js-must-watch',\n",
       " u'lime',\n",
       " u'linux-insides',\n",
       " u'machine-learning-for-software-engineers',\n",
       " u'node-v0.x-archive',\n",
       " u'papers-we-love',\n",
       " u'public-apis',\n",
       " u'quick-look-plugins',\n",
       " u'react-howto',\n",
       " u'ruby-style-guide',\n",
       " u'security-guide-for-developers',\n",
       " u'servo',\n",
       " u'swift-style-guide',\n",
       " u'the-art-of-command-line',\n",
       " u'three20',\n",
       " u'what-happens-when',\n",
       " u'wiki',\n",
       " u'yeoman',\n",
       " u'zendframework'}"
      ]
     },
     "execution_count": 5,
     "metadata": {},
     "output_type": "execute_result"
    }
   ],
   "source": [
    "df['is_legit'] = 1\n",
    "non_legit = set()\n",
    "for legit, name, lang ,counter in zip(df.is_legit, df.name, df.languages, range(df.languages.size)):\n",
    "    if len(lang) == 0:\n",
    "        non_legit.add(name)\n",
    "        df.set_value(counter,'is_legit',0)\n",
    "    counter += 1\n",
    "non_legit"
   ]
  },
  {
   "cell_type": "code",
   "execution_count": 10,
   "metadata": {
    "collapsed": false,
    "scrolled": true
   },
   "outputs": [
    {
     "data": {
      "text/plain": [
       "Index([      u'branches_count',        u'commits_count',\n",
       "               u'contributors',   u'contributors_count',\n",
       "                 u'created_at',          u'description',\n",
       "                u'forks_count',        u'has_downloads',\n",
       "               u'has_homepage',           u'has_issues',\n",
       "                  u'has_pages',             u'has_wiki',\n",
       "                         u'id', u'issue_comments_count',\n",
       "                  u'languages',     u'milestones_count',\n",
       "                       u'name',    u'open_issues_count',\n",
       "           u'primary_language',       u'projects_count',\n",
       "        u'pull_requests_count',        u'release_count',\n",
       "                       u'size',          u'stars_count',\n",
       "             u'watchers_count',             u'is_legit'],\n",
       "      dtype='object')"
      ]
     },
     "execution_count": 10,
     "metadata": {},
     "output_type": "execute_result"
    }
   ],
   "source": [
    "df.columns"
   ]
  },
  {
   "cell_type": "code",
   "execution_count": 110,
   "metadata": {
    "collapsed": false
   },
   "outputs": [
    {
     "data": {
      "image/png": "[encoded data removed]",
      "text/plain": [
       "<matplotlib.figure.Figure at 0x1180c4ad0>"
      ]
     },
     "metadata": {},
     "output_type": "display_data"
    }
   ],
   "source": [
    "import matplotlib.pyplot as plt\n",
    "from sklearn.linear_model import Ridge as lt\n",
    "%matplotlib inline\n",
    "# plt.xscale('log')\n",
    "# plt.yscale('log')\n",
    "plt.scatter(df['branches_count'], df['stars_count'])\n",
    "plt.show()"
   ]
  },
  {
   "cell_type": "code",
   "execution_count": 14,
   "metadata": {
    "collapsed": false
   },
   "outputs": [
    {
     "data": {
      "image/png": "[encoded data removed]",
      "text/plain": [
       "<matplotlib.figure.Figure at 0x11432f650>"
      ]
     },
     "metadata": {},
     "output_type": "display_data"
    }
   ],
   "source": [
    "plt.xscale('log')\n",
    "plt.yscale('log')\n",
    "plt.scatter(df['commits_count'], df['stars_count'])\n",
    "plt.show()"
   ]
  },
  {
   "cell_type": "code",
   "execution_count": 111,
   "metadata": {
    "collapsed": false
   },
   "outputs": [
    {
     "data": {
      "image/png": "[encoded data removed]",
      "text/plain": [
       "<matplotlib.figure.Figure at 0x118012150>"
      ]
     },
     "metadata": {},
     "output_type": "display_data"
    }
   ],
   "source": [
    "# plt.xscale('log')\n",
    "# plt.yscale('log')\n",
    "plt.scatter(df['forks_count'], df['stars_count'])\n",
    "plt.show()\n",
    "\n",
    "#cdf fractions to analyze"
   ]
  },
  {
   "cell_type": "code",
   "execution_count": 112,
   "metadata": {
    "collapsed": false
   },
   "outputs": [
    {
     "data": {
      "image/png": "[encoded data removed]",
      "text/plain": [
       "<matplotlib.figure.Figure at 0x116eada90>"
      ]
     },
     "metadata": {},
     "output_type": "display_data"
    }
   ],
   "source": [
    "# plt.xscale('log')\n",
    "# plt.yscale('log')\n",
    "plt.scatter(df['pull_requests_count'], df['stars_count'])\n",
    "plt.show()"
   ]
  },
  {
   "cell_type": "code",
   "execution_count": 113,
   "metadata": {
    "collapsed": false
   },
   "outputs": [
    {
     "data": {
      "image/png": "[encoded data removed]",
      "text/plain": [
       "<matplotlib.figure.Figure at 0x11402d6d0>"
      ]
     },
     "metadata": {},
     "output_type": "display_data"
    }
   ],
   "source": [
    "# plt.xscale('log')\n",
    "# plt.yscale('log')\n",
    "plt.scatter(df['size'], df['stars_count'])\n",
    "plt.show()"
   ]
  },
  {
   "cell_type": "code",
   "execution_count": 121,
   "metadata": {
    "collapsed": false
   },
   "outputs": [
    {
     "data": {
      "image/png": "[encoded data removed]",
      "text/plain": [
       "<matplotlib.figure.Figure at 0x116745f50>"
      ]
     },
     "metadata": {},
     "output_type": "display_data"
    }
   ],
   "source": [
    "# plt.xscale('log')\n",
    "# plt.yscale('log')\n",
    "plt.scatter(df['contributors_count'], df['stars_count'])\n",
    "plt.show()"
   ]
  },
  {
   "cell_type": "code",
   "execution_count": 115,
   "metadata": {
    "collapsed": false
   },
   "outputs": [
    {
     "data": {
      "image/png": "[encoded data removed]",
      "text/plain": [
       "<matplotlib.figure.Figure at 0x117c70210>"
      ]
     },
     "metadata": {},
     "output_type": "display_data"
    }
   ],
   "source": [
    "# plt.xscale('log')\n",
    "# plt.yscale('log')\n",
    "plt.scatter(df['release_count'], df['stars_count'])\n",
    "plt.show()"
   ]
  },
  {
   "cell_type": "code",
   "execution_count": 45,
   "metadata": {
    "collapsed": false
   },
   "outputs": [],
   "source": [
    "import numpy as np\n",
    "df.columns\n",
    "df.shape\n",
    "df = df.reindex(np.random.permutation(df.index))"
   ]
  },
  {
   "cell_type": "code",
   "execution_count": 50,
   "metadata": {
    "collapsed": false
   },
   "outputs": [
    {
     "data": {
      "text/plain": [
       "Index([      u'branches_count',        u'commits_count',\n",
       "               u'contributors',   u'contributors_count',\n",
       "                 u'created_at',          u'description',\n",
       "                u'forks_count',        u'has_downloads',\n",
       "               u'has_homepage',           u'has_issues',\n",
       "                  u'has_pages',             u'has_wiki',\n",
       "                         u'id', u'issue_comments_count',\n",
       "                  u'languages',     u'milestones_count',\n",
       "                       u'name',    u'open_issues_count',\n",
       "           u'primary_language',       u'projects_count',\n",
       "        u'pull_requests_count',        u'release_count',\n",
       "                       u'size',          u'stars_count',\n",
       "             u'watchers_count',             u'is_legit'],\n",
       "      dtype='object')"
      ]
     },
     "execution_count": 50,
     "metadata": {},
     "output_type": "execute_result"
    }
   ],
   "source": [
    "df.columns"
   ]
  },
  {
   "cell_type": "code",
   "execution_count": 117,
   "metadata": {
    "collapsed": false,
    "scrolled": false
   },
   "outputs": [
    {
     "name": "stdout",
     "output_type": "stream",
     "text": [
      "(898, 1) (898,)\n"
     ]
    }
   ],
   "source": [
    "features = [ 'forks_count']\n",
    "x_feature_train = df[features][:450]\n",
    "y_feature_train = df['stars_count'][:450]\n",
    "x_feature_test = df[features][450:]\n",
    "y_feature_test = df['stars_count'][450:]\n",
    "print x_feature.shape, y_feature.shape"
   ]
  },
  {
   "cell_type": "code",
   "execution_count": 118,
   "metadata": {
    "collapsed": false
   },
   "outputs": [
    {
     "data": {
      "text/plain": [
       "Ridge(alpha=1.0, copy_X=True, fit_intercept=True, max_iter=None,\n",
       "   normalize=False, random_state=None, solver='auto', tol=0.001)"
      ]
     },
     "execution_count": 118,
     "metadata": {},
     "output_type": "execute_result"
    }
   ],
   "source": [
    "regr = lt()\n",
    "regr.fit(x_feature_train, y_feature_train)"
   ]
  },
  {
   "cell_type": "code",
   "execution_count": 119,
   "metadata": {
    "collapsed": false
   },
   "outputs": [
    {
     "name": "stdout",
     "output_type": "stream",
     "text": [
      "6137.33864316 [ 2.35537387]\n"
     ]
    }
   ],
   "source": [
    "print regr.intercept_, regr.coef_"
   ]
  },
  {
   "cell_type": "code",
   "execution_count": 120,
   "metadata": {
    "collapsed": false
   },
   "outputs": [
    {
     "name": "stdout",
     "output_type": "stream",
     "text": [
      "-0.912746595839\n"
     ]
    }
   ],
   "source": [
    "print regr.score(x_feature_test, y_feature_test)"
   ]
  },
  {
   "cell_type": "code",
   "execution_count": 109,
   "metadata": {
    "collapsed": false,
    "scrolled": true
   },
   "outputs": [
    {
     "data": {
      "text/html": [
       "<div>\n",
       "<table border=\"1\" class=\"dataframe\">\n",
       "  <thead>\n",
       "    <tr style=\"text-align: right;\">\n",
       "      <th></th>\n",
       "      <th>branches_count</th>\n",
       "      <th>commits_count</th>\n",
       "      <th>contributors</th>\n",
       "      <th>contributors_count</th>\n",
       "      <th>created_at</th>\n",
       "      <th>description</th>\n",
       "      <th>forks_count</th>\n",
       "      <th>has_downloads</th>\n",
       "      <th>has_homepage</th>\n",
       "      <th>has_issues</th>\n",
       "      <th>...</th>\n",
       "      <th>name</th>\n",
       "      <th>open_issues_count</th>\n",
       "      <th>primary_language</th>\n",
       "      <th>projects_count</th>\n",
       "      <th>pull_requests_count</th>\n",
       "      <th>release_count</th>\n",
       "      <th>size</th>\n",
       "      <th>stars_count</th>\n",
       "      <th>watchers_count</th>\n",
       "      <th>is_legit</th>\n",
       "    </tr>\n",
       "  </thead>\n",
       "  <tbody>\n",
       "    <tr>\n",
       "      <th>239</th>\n",
       "      <td>52</td>\n",
       "      <td>1971</td>\n",
       "      <td>[{u'repos': 33, u'id': 1140553, u'followers': ...</td>\n",
       "      <td>81</td>\n",
       "      <td>2013-04-09 16:02:18</td>\n",
       "      <td>LoopBack is an open source Node.js framework b...</td>\n",
       "      <td>733</td>\n",
       "      <td>1</td>\n",
       "      <td>1</td>\n",
       "      <td>1</td>\n",
       "      <td>...</td>\n",
       "      <td>loopback</td>\n",
       "      <td>527</td>\n",
       "      <td>JavaScript</td>\n",
       "      <td>0</td>\n",
       "      <td>29</td>\n",
       "      <td>112</td>\n",
       "      <td>10443</td>\n",
       "      <td>7753</td>\n",
       "      <td>7753</td>\n",
       "      <td>1</td>\n",
       "    </tr>\n",
       "    <tr>\n",
       "      <th>691</th>\n",
       "      <td>7</td>\n",
       "      <td>796</td>\n",
       "      <td>[{u'repos': 81, u'id': 85566, u'followers': 40...</td>\n",
       "      <td>10</td>\n",
       "      <td>2011-01-01 05:20:00</td>\n",
       "      <td>:revolving_hearts: Filter &amp; sort magical layouts</td>\n",
       "      <td>1264</td>\n",
       "      <td>1</td>\n",
       "      <td>1</td>\n",
       "      <td>1</td>\n",
       "      <td>...</td>\n",
       "      <td>isotope</td>\n",
       "      <td>21</td>\n",
       "      <td>JavaScript</td>\n",
       "      <td>0</td>\n",
       "      <td>1</td>\n",
       "      <td>49</td>\n",
       "      <td>2253</td>\n",
       "      <td>7653</td>\n",
       "      <td>7653</td>\n",
       "      <td>1</td>\n",
       "    </tr>\n",
       "    <tr>\n",
       "      <th>601</th>\n",
       "      <td>1</td>\n",
       "      <td>998</td>\n",
       "      <td>[{u'repos': 192, u'id': 161631, u'followers': ...</td>\n",
       "      <td>127</td>\n",
       "      <td>2013-12-04 17:26:57</td>\n",
       "      <td>Lightweight Linux for Docker</td>\n",
       "      <td>781</td>\n",
       "      <td>1</td>\n",
       "      <td>0</td>\n",
       "      <td>1</td>\n",
       "      <td>...</td>\n",
       "      <td>boot2docker</td>\n",
       "      <td>382</td>\n",
       "      <td>Shell</td>\n",
       "      <td>0</td>\n",
       "      <td>20</td>\n",
       "      <td>107</td>\n",
       "      <td>2008</td>\n",
       "      <td>6398</td>\n",
       "      <td>6398</td>\n",
       "      <td>1</td>\n",
       "    </tr>\n",
       "    <tr>\n",
       "      <th>171</th>\n",
       "      <td>8</td>\n",
       "      <td>842</td>\n",
       "      <td>[{u'repos': 36, u'id': 58962, u'followers': 31...</td>\n",
       "      <td>81</td>\n",
       "      <td>2014-04-04 13:54:37</td>\n",
       "      <td>Promises for Swift &amp; ObjC</td>\n",
       "      <td>561</td>\n",
       "      <td>1</td>\n",
       "      <td>1</td>\n",
       "      <td>1</td>\n",
       "      <td>...</td>\n",
       "      <td>PromiseKit</td>\n",
       "      <td>15</td>\n",
       "      <td>Swift</td>\n",
       "      <td>0</td>\n",
       "      <td>5</td>\n",
       "      <td>108</td>\n",
       "      <td>4453</td>\n",
       "      <td>6375</td>\n",
       "      <td>6375</td>\n",
       "      <td>1</td>\n",
       "    </tr>\n",
       "    <tr>\n",
       "      <th>626</th>\n",
       "      <td>6</td>\n",
       "      <td>1524</td>\n",
       "      <td>[{u'repos': 10, u'id': 1627211, u'followers': ...</td>\n",
       "      <td>43</td>\n",
       "      <td>2013-07-08 22:52:33</td>\n",
       "      <td>An image loading and caching library for Andro...</td>\n",
       "      <td>2506</td>\n",
       "      <td>1</td>\n",
       "      <td>0</td>\n",
       "      <td>1</td>\n",
       "      <td>...</td>\n",
       "      <td>glide</td>\n",
       "      <td>220</td>\n",
       "      <td>Java</td>\n",
       "      <td>0</td>\n",
       "      <td>3</td>\n",
       "      <td>19</td>\n",
       "      <td>26204</td>\n",
       "      <td>11859</td>\n",
       "      <td>11859</td>\n",
       "      <td>1</td>\n",
       "    </tr>\n",
       "  </tbody>\n",
       "</table>\n",
       "<p>5 rows × 26 columns</p>\n",
       "</div>"
      ],
      "text/plain": [
       "     branches_count  commits_count  \\\n",
       "239              52           1971   \n",
       "691               7            796   \n",
       "601               1            998   \n",
       "171               8            842   \n",
       "626               6           1524   \n",
       "\n",
       "                                          contributors  contributors_count  \\\n",
       "239  [{u'repos': 33, u'id': 1140553, u'followers': ...                  81   \n",
       "691  [{u'repos': 81, u'id': 85566, u'followers': 40...                  10   \n",
       "601  [{u'repos': 192, u'id': 161631, u'followers': ...                 127   \n",
       "171  [{u'repos': 36, u'id': 58962, u'followers': 31...                  81   \n",
       "626  [{u'repos': 10, u'id': 1627211, u'followers': ...                  43   \n",
       "\n",
       "             created_at                                        description  \\\n",
       "239 2013-04-09 16:02:18  LoopBack is an open source Node.js framework b...   \n",
       "691 2011-01-01 05:20:00   :revolving_hearts: Filter & sort magical layouts   \n",
       "601 2013-12-04 17:26:57                       Lightweight Linux for Docker   \n",
       "171 2014-04-04 13:54:37                          Promises for Swift & ObjC   \n",
       "626 2013-07-08 22:52:33  An image loading and caching library for Andro...   \n",
       "\n",
       "     forks_count  has_downloads  has_homepage  has_issues    ...     \\\n",
       "239          733              1             1           1    ...      \n",
       "691         1264              1             1           1    ...      \n",
       "601          781              1             0           1    ...      \n",
       "171          561              1             1           1    ...      \n",
       "626         2506              1             0           1    ...      \n",
       "\n",
       "            name  open_issues_count  primary_language projects_count  \\\n",
       "239     loopback                527        JavaScript              0   \n",
       "691      isotope                 21        JavaScript              0   \n",
       "601  boot2docker                382             Shell              0   \n",
       "171   PromiseKit                 15             Swift              0   \n",
       "626        glide                220              Java              0   \n",
       "\n",
       "    pull_requests_count  release_count   size  stars_count watchers_count  \\\n",
       "239                  29            112  10443         7753           7753   \n",
       "691                   1             49   2253         7653           7653   \n",
       "601                  20            107   2008         6398           6398   \n",
       "171                   5            108   4453         6375           6375   \n",
       "626                   3             19  26204        11859          11859   \n",
       "\n",
       "     is_legit  \n",
       "239         1  \n",
       "691         1  \n",
       "601         1  \n",
       "171         1  \n",
       "626         1  \n",
       "\n",
       "[5 rows x 26 columns]"
      ]
     },
     "execution_count": 109,
     "metadata": {},
     "output_type": "execute_result"
    }
   ],
   "source": [
    "df.head()"
   ]
  },
  {
   "cell_type": "code",
   "execution_count": 116,
   "metadata": {
    "collapsed": false
   },
   "outputs": [
    {
     "data": {
      "text/html": [
       "<div>\n",
       "<table border=\"1\" class=\"dataframe\">\n",
       "  <thead>\n",
       "    <tr style=\"text-align: right;\">\n",
       "      <th></th>\n",
       "      <th>branches_count</th>\n",
       "      <th>commits_count</th>\n",
       "      <th>contributors_count</th>\n",
       "      <th>forks_count</th>\n",
       "      <th>has_downloads</th>\n",
       "      <th>has_homepage</th>\n",
       "      <th>has_issues</th>\n",
       "      <th>has_pages</th>\n",
       "      <th>has_wiki</th>\n",
       "      <th>id</th>\n",
       "      <th>milestones_count</th>\n",
       "      <th>open_issues_count</th>\n",
       "      <th>projects_count</th>\n",
       "      <th>pull_requests_count</th>\n",
       "      <th>release_count</th>\n",
       "      <th>size</th>\n",
       "      <th>stars_count</th>\n",
       "      <th>watchers_count</th>\n",
       "      <th>is_legit</th>\n",
       "    </tr>\n",
       "  </thead>\n",
       "  <tbody>\n",
       "    <tr>\n",
       "      <th>count</th>\n",
       "      <td>898.000000</td>\n",
       "      <td>898.000000</td>\n",
       "      <td>898.000000</td>\n",
       "      <td>898.000000</td>\n",
       "      <td>898.000000</td>\n",
       "      <td>898.000000</td>\n",
       "      <td>898.000000</td>\n",
       "      <td>898.000000</td>\n",
       "      <td>898.000000</td>\n",
       "      <td>8.980000e+02</td>\n",
       "      <td>898.000000</td>\n",
       "      <td>898.000000</td>\n",
       "      <td>898.000000</td>\n",
       "      <td>898.000000</td>\n",
       "      <td>898.000000</td>\n",
       "      <td>8.980000e+02</td>\n",
       "      <td>898.000000</td>\n",
       "      <td>898.000000</td>\n",
       "      <td>898.000000</td>\n",
       "    </tr>\n",
       "    <tr>\n",
       "      <th>mean</th>\n",
       "      <td>17.234967</td>\n",
       "      <td>4037.897550</td>\n",
       "      <td>158.375278</td>\n",
       "      <td>2291.994432</td>\n",
       "      <td>0.954343</td>\n",
       "      <td>0.678174</td>\n",
       "      <td>0.955457</td>\n",
       "      <td>0.355234</td>\n",
       "      <td>0.721604</td>\n",
       "      <td>1.576191e+07</td>\n",
       "      <td>1.516704</td>\n",
       "      <td>240.591314</td>\n",
       "      <td>0.259465</td>\n",
       "      <td>37.397550</td>\n",
       "      <td>64.027840</td>\n",
       "      <td>6.485151e+04</td>\n",
       "      <td>11094.739421</td>\n",
       "      <td>11094.739421</td>\n",
       "      <td>0.902004</td>\n",
       "    </tr>\n",
       "    <tr>\n",
       "      <th>std</th>\n",
       "      <td>63.189875</td>\n",
       "      <td>12353.407935</td>\n",
       "      <td>322.869780</td>\n",
       "      <td>4012.750466</td>\n",
       "      <td>0.208856</td>\n",
       "      <td>0.467437</td>\n",
       "      <td>0.206414</td>\n",
       "      <td>0.478851</td>\n",
       "      <td>0.448459</td>\n",
       "      <td>1.649912e+07</td>\n",
       "      <td>2.705593</td>\n",
       "      <td>537.714878</td>\n",
       "      <td>0.979468</td>\n",
       "      <td>180.420984</td>\n",
       "      <td>302.190078</td>\n",
       "      <td>2.034484e+05</td>\n",
       "      <td>10140.083277</td>\n",
       "      <td>10140.083277</td>\n",
       "      <td>0.297474</td>\n",
       "    </tr>\n",
       "    <tr>\n",
       "      <th>min</th>\n",
       "      <td>1.000000</td>\n",
       "      <td>1.000000</td>\n",
       "      <td>0.000000</td>\n",
       "      <td>126.000000</td>\n",
       "      <td>0.000000</td>\n",
       "      <td>0.000000</td>\n",
       "      <td>0.000000</td>\n",
       "      <td>0.000000</td>\n",
       "      <td>0.000000</td>\n",
       "      <td>3.314000e+03</td>\n",
       "      <td>0.000000</td>\n",
       "      <td>0.000000</td>\n",
       "      <td>0.000000</td>\n",
       "      <td>0.000000</td>\n",
       "      <td>0.000000</td>\n",
       "      <td>4.500000e+01</td>\n",
       "      <td>5327.000000</td>\n",
       "      <td>5327.000000</td>\n",
       "      <td>0.000000</td>\n",
       "    </tr>\n",
       "    <tr>\n",
       "      <th>25%</th>\n",
       "      <td>2.000000</td>\n",
       "      <td>352.750000</td>\n",
       "      <td>30.000000</td>\n",
       "      <td>719.250000</td>\n",
       "      <td>1.000000</td>\n",
       "      <td>0.000000</td>\n",
       "      <td>1.000000</td>\n",
       "      <td>0.000000</td>\n",
       "      <td>0.000000</td>\n",
       "      <td>2.143211e+06</td>\n",
       "      <td>0.000000</td>\n",
       "      <td>26.000000</td>\n",
       "      <td>0.000000</td>\n",
       "      <td>4.000000</td>\n",
       "      <td>3.000000</td>\n",
       "      <td>2.440000e+03</td>\n",
       "      <td>6252.250000</td>\n",
       "      <td>6252.250000</td>\n",
       "      <td>1.000000</td>\n",
       "    </tr>\n",
       "    <tr>\n",
       "      <th>50%</th>\n",
       "      <td>4.000000</td>\n",
       "      <td>1003.500000</td>\n",
       "      <td>71.000000</td>\n",
       "      <td>1394.000000</td>\n",
       "      <td>1.000000</td>\n",
       "      <td>1.000000</td>\n",
       "      <td>1.000000</td>\n",
       "      <td>0.000000</td>\n",
       "      <td>1.000000</td>\n",
       "      <td>1.055169e+07</td>\n",
       "      <td>1.000000</td>\n",
       "      <td>84.000000</td>\n",
       "      <td>0.000000</td>\n",
       "      <td>13.000000</td>\n",
       "      <td>23.000000</td>\n",
       "      <td>9.376000e+03</td>\n",
       "      <td>8331.000000</td>\n",
       "      <td>8331.000000</td>\n",
       "      <td>1.000000</td>\n",
       "    </tr>\n",
       "    <tr>\n",
       "      <th>75%</th>\n",
       "      <td>10.000000</td>\n",
       "      <td>2799.750000</td>\n",
       "      <td>174.000000</td>\n",
       "      <td>2599.750000</td>\n",
       "      <td>1.000000</td>\n",
       "      <td>1.000000</td>\n",
       "      <td>1.000000</td>\n",
       "      <td>1.000000</td>\n",
       "      <td>1.000000</td>\n",
       "      <td>2.340553e+07</td>\n",
       "      <td>2.000000</td>\n",
       "      <td>225.750000</td>\n",
       "      <td>0.000000</td>\n",
       "      <td>33.000000</td>\n",
       "      <td>61.750000</td>\n",
       "      <td>4.371050e+04</td>\n",
       "      <td>12266.250000</td>\n",
       "      <td>12266.250000</td>\n",
       "      <td>1.000000</td>\n",
       "    </tr>\n",
       "    <tr>\n",
       "      <th>max</th>\n",
       "      <td>980.000000</td>\n",
       "      <td>252695.000000</td>\n",
       "      <td>5640.000000</td>\n",
       "      <td>87195.000000</td>\n",
       "      <td>1.000000</td>\n",
       "      <td>1.000000</td>\n",
       "      <td>1.000000</td>\n",
       "      <td>1.000000</td>\n",
       "      <td>1.000000</td>\n",
       "      <td>7.090548e+07</td>\n",
       "      <td>30.000000</td>\n",
       "      <td>9148.000000</td>\n",
       "      <td>13.000000</td>\n",
       "      <td>5000.000000</td>\n",
       "      <td>7020.000000</td>\n",
       "      <td>2.842284e+06</td>\n",
       "      <td>197985.000000</td>\n",
       "      <td>197985.000000</td>\n",
       "      <td>1.000000</td>\n",
       "    </tr>\n",
       "  </tbody>\n",
       "</table>\n",
       "</div>"
      ],
      "text/plain": [
       "       branches_count  commits_count  contributors_count   forks_count  \\\n",
       "count      898.000000     898.000000          898.000000    898.000000   \n",
       "mean        17.234967    4037.897550          158.375278   2291.994432   \n",
       "std         63.189875   12353.407935          322.869780   4012.750466   \n",
       "min          1.000000       1.000000            0.000000    126.000000   \n",
       "25%          2.000000     352.750000           30.000000    719.250000   \n",
       "50%          4.000000    1003.500000           71.000000   1394.000000   \n",
       "75%         10.000000    2799.750000          174.000000   2599.750000   \n",
       "max        980.000000  252695.000000         5640.000000  87195.000000   \n",
       "\n",
       "       has_downloads  has_homepage  has_issues   has_pages    has_wiki  \\\n",
       "count     898.000000    898.000000  898.000000  898.000000  898.000000   \n",
       "mean        0.954343      0.678174    0.955457    0.355234    0.721604   \n",
       "std         0.208856      0.467437    0.206414    0.478851    0.448459   \n",
       "min         0.000000      0.000000    0.000000    0.000000    0.000000   \n",
       "25%         1.000000      0.000000    1.000000    0.000000    0.000000   \n",
       "50%         1.000000      1.000000    1.000000    0.000000    1.000000   \n",
       "75%         1.000000      1.000000    1.000000    1.000000    1.000000   \n",
       "max         1.000000      1.000000    1.000000    1.000000    1.000000   \n",
       "\n",
       "                 id  milestones_count  open_issues_count  projects_count  \\\n",
       "count  8.980000e+02        898.000000         898.000000      898.000000   \n",
       "mean   1.576191e+07          1.516704         240.591314        0.259465   \n",
       "std    1.649912e+07          2.705593         537.714878        0.979468   \n",
       "min    3.314000e+03          0.000000           0.000000        0.000000   \n",
       "25%    2.143211e+06          0.000000          26.000000        0.000000   \n",
       "50%    1.055169e+07          1.000000          84.000000        0.000000   \n",
       "75%    2.340553e+07          2.000000         225.750000        0.000000   \n",
       "max    7.090548e+07         30.000000        9148.000000       13.000000   \n",
       "\n",
       "       pull_requests_count  release_count          size    stars_count  \\\n",
       "count           898.000000     898.000000  8.980000e+02     898.000000   \n",
       "mean             37.397550      64.027840  6.485151e+04   11094.739421   \n",
       "std             180.420984     302.190078  2.034484e+05   10140.083277   \n",
       "min               0.000000       0.000000  4.500000e+01    5327.000000   \n",
       "25%               4.000000       3.000000  2.440000e+03    6252.250000   \n",
       "50%              13.000000      23.000000  9.376000e+03    8331.000000   \n",
       "75%              33.000000      61.750000  4.371050e+04   12266.250000   \n",
       "max            5000.000000    7020.000000  2.842284e+06  197985.000000   \n",
       "\n",
       "       watchers_count    is_legit  \n",
       "count      898.000000  898.000000  \n",
       "mean     11094.739421    0.902004  \n",
       "std      10140.083277    0.297474  \n",
       "min       5327.000000    0.000000  \n",
       "25%       6252.250000    1.000000  \n",
       "50%       8331.000000    1.000000  \n",
       "75%      12266.250000    1.000000  \n",
       "max     197985.000000    1.000000  "
      ]
     },
     "execution_count": 116,
     "metadata": {},
     "output_type": "execute_result"
    }
   ],
   "source": [
    "df.describe()"
   ]
  },
  {
   "cell_type": "code",
   "execution_count": null,
   "metadata": {
    "collapsed": true
   },
   "outputs": [],
   "source": [
    "# focus on one language"
   ]
  }
 ],
 "metadata": {
  "kernelspec": {
   "display_name": "Python [conda env:cs489]",
   "language": "python",
   "name": "conda-env-cs489-py"
  },
  "language_info": {
   "codemirror_mode": {
    "name": "ipython",
    "version": 2
   },
   "file_extension": ".py",
   "mimetype": "text/x-python",
   "name": "python",
   "nbconvert_exporter": "python",
   "pygments_lexer": "ipython2",
   "version": "2.7.12"
  }
 },
 "nbformat": 4,
 "nbformat_minor": 0
}
