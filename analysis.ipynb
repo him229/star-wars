{
 "cells": [
  {
   "cell_type": "code",
   "execution_count": 88,
   "metadata": {
    "collapsed": false
   },
   "outputs": [],
   "source": [
    "import json\n",
    "import pandas as pd\n",
    "import sklearn\n",
    "import seaborn\n",
    "\n",
    "df = pd.read_json('all_data_array.json')"
   ]
  },
  {
   "cell_type": "code",
   "execution_count": 10,
   "metadata": {
    "collapsed": false
   },
   "outputs": [
    {
     "data": {
      "text/html": [
       "<div>\n",
       "<table border=\"1\" class=\"dataframe\">\n",
       "  <thead>\n",
       "    <tr style=\"text-align: right;\">\n",
       "      <th></th>\n",
       "      <th>branches_count</th>\n",
       "      <th>commits_count</th>\n",
       "      <th>contributors_count</th>\n",
       "      <th>forks_count</th>\n",
       "      <th>has_downloads</th>\n",
       "      <th>has_homepage</th>\n",
       "      <th>has_issues</th>\n",
       "      <th>has_pages</th>\n",
       "      <th>has_wiki</th>\n",
       "      <th>id</th>\n",
       "      <th>milestones_count</th>\n",
       "      <th>open_issues_count</th>\n",
       "      <th>projects_count</th>\n",
       "      <th>pull_requests_count</th>\n",
       "      <th>release_count</th>\n",
       "      <th>size</th>\n",
       "      <th>stars_count</th>\n",
       "      <th>watchers_count</th>\n",
       "    </tr>\n",
       "  </thead>\n",
       "  <tbody>\n",
       "    <tr>\n",
       "      <th>count</th>\n",
       "      <td>898.000000</td>\n",
       "      <td>898.000000</td>\n",
       "      <td>898.000000</td>\n",
       "      <td>898.000000</td>\n",
       "      <td>898.000000</td>\n",
       "      <td>898.000000</td>\n",
       "      <td>898.000000</td>\n",
       "      <td>898.000000</td>\n",
       "      <td>898.000000</td>\n",
       "      <td>8.980000e+02</td>\n",
       "      <td>898.000000</td>\n",
       "      <td>898.000000</td>\n",
       "      <td>898.000000</td>\n",
       "      <td>898.000000</td>\n",
       "      <td>898.000000</td>\n",
       "      <td>8.980000e+02</td>\n",
       "      <td>898.000000</td>\n",
       "      <td>898.000000</td>\n",
       "    </tr>\n",
       "    <tr>\n",
       "      <th>mean</th>\n",
       "      <td>17.234967</td>\n",
       "      <td>4037.897550</td>\n",
       "      <td>158.375278</td>\n",
       "      <td>2291.994432</td>\n",
       "      <td>0.954343</td>\n",
       "      <td>0.678174</td>\n",
       "      <td>0.955457</td>\n",
       "      <td>0.355234</td>\n",
       "      <td>0.721604</td>\n",
       "      <td>1.576191e+07</td>\n",
       "      <td>1.516704</td>\n",
       "      <td>240.591314</td>\n",
       "      <td>0.259465</td>\n",
       "      <td>37.397550</td>\n",
       "      <td>64.027840</td>\n",
       "      <td>6.485151e+04</td>\n",
       "      <td>11094.739421</td>\n",
       "      <td>11094.739421</td>\n",
       "    </tr>\n",
       "    <tr>\n",
       "      <th>std</th>\n",
       "      <td>63.189875</td>\n",
       "      <td>12353.407935</td>\n",
       "      <td>322.869780</td>\n",
       "      <td>4012.750466</td>\n",
       "      <td>0.208856</td>\n",
       "      <td>0.467437</td>\n",
       "      <td>0.206414</td>\n",
       "      <td>0.478851</td>\n",
       "      <td>0.448459</td>\n",
       "      <td>1.649912e+07</td>\n",
       "      <td>2.705593</td>\n",
       "      <td>537.714878</td>\n",
       "      <td>0.979468</td>\n",
       "      <td>180.420984</td>\n",
       "      <td>302.190078</td>\n",
       "      <td>2.034484e+05</td>\n",
       "      <td>10140.083277</td>\n",
       "      <td>10140.083277</td>\n",
       "    </tr>\n",
       "    <tr>\n",
       "      <th>min</th>\n",
       "      <td>1.000000</td>\n",
       "      <td>1.000000</td>\n",
       "      <td>0.000000</td>\n",
       "      <td>126.000000</td>\n",
       "      <td>0.000000</td>\n",
       "      <td>0.000000</td>\n",
       "      <td>0.000000</td>\n",
       "      <td>0.000000</td>\n",
       "      <td>0.000000</td>\n",
       "      <td>3.314000e+03</td>\n",
       "      <td>0.000000</td>\n",
       "      <td>0.000000</td>\n",
       "      <td>0.000000</td>\n",
       "      <td>0.000000</td>\n",
       "      <td>0.000000</td>\n",
       "      <td>4.500000e+01</td>\n",
       "      <td>5327.000000</td>\n",
       "      <td>5327.000000</td>\n",
       "    </tr>\n",
       "    <tr>\n",
       "      <th>25%</th>\n",
       "      <td>2.000000</td>\n",
       "      <td>352.750000</td>\n",
       "      <td>30.000000</td>\n",
       "      <td>719.250000</td>\n",
       "      <td>1.000000</td>\n",
       "      <td>0.000000</td>\n",
       "      <td>1.000000</td>\n",
       "      <td>0.000000</td>\n",
       "      <td>0.000000</td>\n",
       "      <td>2.143211e+06</td>\n",
       "      <td>0.000000</td>\n",
       "      <td>26.000000</td>\n",
       "      <td>0.000000</td>\n",
       "      <td>4.000000</td>\n",
       "      <td>3.000000</td>\n",
       "      <td>2.440000e+03</td>\n",
       "      <td>6252.250000</td>\n",
       "      <td>6252.250000</td>\n",
       "    </tr>\n",
       "    <tr>\n",
       "      <th>50%</th>\n",
       "      <td>4.000000</td>\n",
       "      <td>1003.500000</td>\n",
       "      <td>71.000000</td>\n",
       "      <td>1394.000000</td>\n",
       "      <td>1.000000</td>\n",
       "      <td>1.000000</td>\n",
       "      <td>1.000000</td>\n",
       "      <td>0.000000</td>\n",
       "      <td>1.000000</td>\n",
       "      <td>1.055169e+07</td>\n",
       "      <td>1.000000</td>\n",
       "      <td>84.000000</td>\n",
       "      <td>0.000000</td>\n",
       "      <td>13.000000</td>\n",
       "      <td>23.000000</td>\n",
       "      <td>9.376000e+03</td>\n",
       "      <td>8331.000000</td>\n",
       "      <td>8331.000000</td>\n",
       "    </tr>\n",
       "    <tr>\n",
       "      <th>75%</th>\n",
       "      <td>10.000000</td>\n",
       "      <td>2799.750000</td>\n",
       "      <td>174.000000</td>\n",
       "      <td>2599.750000</td>\n",
       "      <td>1.000000</td>\n",
       "      <td>1.000000</td>\n",
       "      <td>1.000000</td>\n",
       "      <td>1.000000</td>\n",
       "      <td>1.000000</td>\n",
       "      <td>2.340553e+07</td>\n",
       "      <td>2.000000</td>\n",
       "      <td>225.750000</td>\n",
       "      <td>0.000000</td>\n",
       "      <td>33.000000</td>\n",
       "      <td>61.750000</td>\n",
       "      <td>4.371050e+04</td>\n",
       "      <td>12266.250000</td>\n",
       "      <td>12266.250000</td>\n",
       "    </tr>\n",
       "    <tr>\n",
       "      <th>max</th>\n",
       "      <td>980.000000</td>\n",
       "      <td>252695.000000</td>\n",
       "      <td>5640.000000</td>\n",
       "      <td>87195.000000</td>\n",
       "      <td>1.000000</td>\n",
       "      <td>1.000000</td>\n",
       "      <td>1.000000</td>\n",
       "      <td>1.000000</td>\n",
       "      <td>1.000000</td>\n",
       "      <td>7.090548e+07</td>\n",
       "      <td>30.000000</td>\n",
       "      <td>9148.000000</td>\n",
       "      <td>13.000000</td>\n",
       "      <td>5000.000000</td>\n",
       "      <td>7020.000000</td>\n",
       "      <td>2.842284e+06</td>\n",
       "      <td>197985.000000</td>\n",
       "      <td>197985.000000</td>\n",
       "    </tr>\n",
       "  </tbody>\n",
       "</table>\n",
       "</div>"
      ],
      "text/plain": [
       "       branches_count  commits_count  contributors_count   forks_count  \\\n",
       "count      898.000000     898.000000          898.000000    898.000000   \n",
       "mean        17.234967    4037.897550          158.375278   2291.994432   \n",
       "std         63.189875   12353.407935          322.869780   4012.750466   \n",
       "min          1.000000       1.000000            0.000000    126.000000   \n",
       "25%          2.000000     352.750000           30.000000    719.250000   \n",
       "50%          4.000000    1003.500000           71.000000   1394.000000   \n",
       "75%         10.000000    2799.750000          174.000000   2599.750000   \n",
       "max        980.000000  252695.000000         5640.000000  87195.000000   \n",
       "\n",
       "       has_downloads  has_homepage  has_issues   has_pages    has_wiki  \\\n",
       "count     898.000000    898.000000  898.000000  898.000000  898.000000   \n",
       "mean        0.954343      0.678174    0.955457    0.355234    0.721604   \n",
       "std         0.208856      0.467437    0.206414    0.478851    0.448459   \n",
       "min         0.000000      0.000000    0.000000    0.000000    0.000000   \n",
       "25%         1.000000      0.000000    1.000000    0.000000    0.000000   \n",
       "50%         1.000000      1.000000    1.000000    0.000000    1.000000   \n",
       "75%         1.000000      1.000000    1.000000    1.000000    1.000000   \n",
       "max         1.000000      1.000000    1.000000    1.000000    1.000000   \n",
       "\n",
       "                 id  milestones_count  open_issues_count  projects_count  \\\n",
       "count  8.980000e+02        898.000000         898.000000      898.000000   \n",
       "mean   1.576191e+07          1.516704         240.591314        0.259465   \n",
       "std    1.649912e+07          2.705593         537.714878        0.979468   \n",
       "min    3.314000e+03          0.000000           0.000000        0.000000   \n",
       "25%    2.143211e+06          0.000000          26.000000        0.000000   \n",
       "50%    1.055169e+07          1.000000          84.000000        0.000000   \n",
       "75%    2.340553e+07          2.000000         225.750000        0.000000   \n",
       "max    7.090548e+07         30.000000        9148.000000       13.000000   \n",
       "\n",
       "       pull_requests_count  release_count          size    stars_count  \\\n",
       "count           898.000000     898.000000  8.980000e+02     898.000000   \n",
       "mean             37.397550      64.027840  6.485151e+04   11094.739421   \n",
       "std             180.420984     302.190078  2.034484e+05   10140.083277   \n",
       "min               0.000000       0.000000  4.500000e+01    5327.000000   \n",
       "25%               4.000000       3.000000  2.440000e+03    6252.250000   \n",
       "50%              13.000000      23.000000  9.376000e+03    8331.000000   \n",
       "75%              33.000000      61.750000  4.371050e+04   12266.250000   \n",
       "max            5000.000000    7020.000000  2.842284e+06  197985.000000   \n",
       "\n",
       "       watchers_count  \n",
       "count      898.000000  \n",
       "mean     11094.739421  \n",
       "std      10140.083277  \n",
       "min       5327.000000  \n",
       "25%       6252.250000  \n",
       "50%       8331.000000  \n",
       "75%      12266.250000  \n",
       "max     197985.000000  "
      ]
     },
     "execution_count": 10,
     "metadata": {},
     "output_type": "execute_result"
    }
   ],
   "source": [
    "df.head()\n",
    "df = df[df.branches_count != -1]\n",
    "df = df[df.contributors_count != -1]\n",
    "#df[['COL2', 'COL4']] = df[['COL2', 'COL4']].astype(int)\n",
    "\n",
    "type_data = str(df.dtypes).split()\n",
    "for i in xrange(0,len(type_data),2):\n",
    "    column_name = type_data[i]\n",
    "    column_type = type_data[i+1]\n",
    "    if column_type == 'bool':\n",
    "        df[column_name] = df[column_name].astype(int)\n",
    "\n",
    "df.describe()"
   ]
  },
  {
   "cell_type": "code",
   "execution_count": 11,
   "metadata": {
    "collapsed": false
   },
   "outputs": [
    {
     "data": {
      "text/plain": [
       "0                           systemjs\n",
       "1               WaveFunctionCollapse\n",
       "2                           composer\n",
       "3                       idiomatic.js\n",
       "4                      MBProgressHUD\n",
       "5                             Swiper\n",
       "6                                gor\n",
       "8                             pandas\n",
       "9                                  z\n",
       "10               Material-Animations\n",
       "11                         syncthing\n",
       "12                    awesome-elixir\n",
       "13                           Flat-UI\n",
       "14                  computer-science\n",
       "15                            zxcvbn\n",
       "16                    tomorrow-theme\n",
       "17                           pouchdb\n",
       "18                             ievms\n",
       "19                           masonry\n",
       "20                             swift\n",
       "21                VVDocumenter-Xcode\n",
       "22                       picturefill\n",
       "23                           jasmine\n",
       "24                         ijkplayer\n",
       "25               JSVerbalExpressions\n",
       "26                            xctool\n",
       "27                          material\n",
       "28                        ChakraCore\n",
       "29                               WOW\n",
       "30                          FiraCode\n",
       "                   ...              \n",
       "870                        deepdream\n",
       "871                       code-guide\n",
       "872                             svgo\n",
       "873    android-open-project-analysis\n",
       "874                  blessed-contrib\n",
       "875                          awesome\n",
       "876                             flow\n",
       "877                        terraform\n",
       "878                              Qix\n",
       "879                    zendframework\n",
       "880                          Hystrix\n",
       "881                            hosts\n",
       "882                   awesome-ios-ui\n",
       "883                       emscripten\n",
       "884                  stream-handbook\n",
       "885                         ionicons\n",
       "886                           XX-Net\n",
       "887             android-architecture\n",
       "888            javascript-in-one-pic\n",
       "889                      awesome-wpo\n",
       "890                          natural\n",
       "891                        gitignore\n",
       "892               angular-styleguide\n",
       "893                          Snap.js\n",
       "894                            Ghost\n",
       "895                          clojure\n",
       "896                        fastclick\n",
       "897                             gulp\n",
       "898                        CocoaPods\n",
       "899               react-native-macos\n",
       "Name: name, dtype: object"
      ]
     },
     "execution_count": 11,
     "metadata": {},
     "output_type": "execute_result"
    }
   ],
   "source": [
    "df.name"
   ]
  },
  {
   "cell_type": "code",
   "execution_count": 12,
   "metadata": {
    "collapsed": false,
    "scrolled": true
   },
   "outputs": [
    {
     "data": {
      "text/plain": [
       "{u'AngularJS-Learning',\n",
       " u'Best-App',\n",
       " u'Front-end-Developer-Interview-Questions',\n",
       " u'HEAD',\n",
       " u'HowToBeAProgrammer',\n",
       " u'PokemonGo-Map',\n",
       " u'Projects',\n",
       " u'Qix',\n",
       " u'ToolsOfTheTrade',\n",
       " u'android-architecture',\n",
       " u'android-open-project',\n",
       " u'android-open-project-analysis',\n",
       " u'android_guides',\n",
       " u'angular-styleguide',\n",
       " u'awesome',\n",
       " u'awesome-android-ui',\n",
       " u'awesome-awesomeness',\n",
       " u'awesome-courses',\n",
       " u'awesome-cpp',\n",
       " u'awesome-design',\n",
       " u'awesome-electron',\n",
       " u'awesome-interview-questions',\n",
       " u'awesome-ios-ui',\n",
       " u'awesome-java',\n",
       " u'awesome-javascript',\n",
       " u'awesome-nodejs',\n",
       " u'awesome-osx-command-line',\n",
       " u'awesome-php',\n",
       " u'awesome-public-datasets',\n",
       " u'awesome-react',\n",
       " u'awesome-react-components',\n",
       " u'awesome-remote-job',\n",
       " u'awesome-ruby',\n",
       " u'awesome-shell',\n",
       " u'awesome-stock-resources',\n",
       " u'awesome-sysadmin',\n",
       " u'awesome-vue',\n",
       " u'awesome-wpo',\n",
       " u'blog',\n",
       " u'computer-science',\n",
       " u'css-modules',\n",
       " u'css-protips',\n",
       " u'deepdream',\n",
       " u'design',\n",
       " u'dive-into-machine-learning',\n",
       " u'docker-cheat-sheet',\n",
       " u'email-blueprints',\n",
       " u'es6features',\n",
       " u'favicon-cheat-sheet',\n",
       " u'fig-standards',\n",
       " u'flexbugs',\n",
       " u'free-for-dev',\n",
       " u'free-programming-books',\n",
       " u'frontend-dev-bookmarks',\n",
       " u'frontend-guidelines',\n",
       " u'frontend-stuff',\n",
       " u'functional-programming-jargon',\n",
       " u'games',\n",
       " u'github-cheat-sheet',\n",
       " u'gitignore',\n",
       " u'go',\n",
       " u'google-interview-university',\n",
       " u'hosts',\n",
       " u'htaccess',\n",
       " u'http-api-design',\n",
       " u'idiomatic.js',\n",
       " u'ipfs',\n",
       " u'javascript-in-one-pic',\n",
       " u'javascript-patterns',\n",
       " u'js-must-watch',\n",
       " u'lime',\n",
       " u'linux-insides',\n",
       " u'machine-learning-for-software-engineers',\n",
       " u'node-v0.x-archive',\n",
       " u'papers-we-love',\n",
       " u'public-apis',\n",
       " u'quick-look-plugins',\n",
       " u'react-howto',\n",
       " u'ruby-style-guide',\n",
       " u'security-guide-for-developers',\n",
       " u'servo',\n",
       " u'swift-style-guide',\n",
       " u'the-art-of-command-line',\n",
       " u'three20',\n",
       " u'what-happens-when',\n",
       " u'wiki',\n",
       " u'yeoman',\n",
       " u'zendframework'}"
      ]
     },
     "execution_count": 12,
     "metadata": {},
     "output_type": "execute_result"
    }
   ],
   "source": [
    "df['is_legit'] = 1\n",
    "non_legit = set()\n",
    "for legit, name, lang ,counter in zip(df.is_legit, df.name, df.languages, range(df.languages.size)):\n",
    "    if len(lang) == 0:\n",
    "        non_legit.add(name)\n",
    "        df.set_value(counter,'is_legit',0)\n",
    "    counter += 1\n",
    "non_legit"
   ]
  },
  {
   "cell_type": "code",
   "execution_count": 13,
   "metadata": {
    "collapsed": false,
    "scrolled": true
   },
   "outputs": [
    {
     "data": {
      "text/plain": [
       "Index([      u'branches_count',        u'commits_count',\n",
       "               u'contributors',   u'contributors_count',\n",
       "                 u'created_at',          u'description',\n",
       "                u'forks_count',        u'has_downloads',\n",
       "               u'has_homepage',           u'has_issues',\n",
       "                  u'has_pages',             u'has_wiki',\n",
       "                         u'id', u'issue_comments_count',\n",
       "                  u'languages',     u'milestones_count',\n",
       "                       u'name',    u'open_issues_count',\n",
       "           u'primary_language',       u'projects_count',\n",
       "        u'pull_requests_count',        u'release_count',\n",
       "                       u'size',          u'stars_count',\n",
       "             u'watchers_count',             u'is_legit'],\n",
       "      dtype='object')"
      ]
     },
     "execution_count": 13,
     "metadata": {},
     "output_type": "execute_result"
    }
   ],
   "source": [
    "df.columns"
   ]
  },
  {
   "cell_type": "code",
   "execution_count": 14,
   "metadata": {
    "collapsed": false
   },
   "outputs": [
    {
     "data": {
      "image/png": "[encoded data removed]",
      "text/plain": [
       "<matplotlib.figure.Figure at 0x113a043d0>"
      ]
     },
     "metadata": {},
     "output_type": "display_data"
    }
   ],
   "source": [
    "import matplotlib.pyplot as plt\n",
    "from sklearn.linear_model import Ridge as lt\n",
    "%matplotlib inline\n",
    "# plt.xscale('log')\n",
    "# plt.yscale('log')\n",
    "plt.scatter(df['branches_count'], df['stars_count'])\n",
    "plt.show()"
   ]
  },
  {
   "cell_type": "code",
   "execution_count": 15,
   "metadata": {
    "collapsed": false
   },
   "outputs": [
    {
     "data": {
      "image/png": "[encoded data removed]",
      "text/plain": [
       "<matplotlib.figure.Figure at 0x1163a8890>"
      ]
     },
     "metadata": {},
     "output_type": "display_data"
    }
   ],
   "source": [
    "plt.xscale('log')\n",
    "plt.yscale('log')\n",
    "plt.scatter(df['commits_count'], df['stars_count'])\n",
    "plt.show()"
   ]
  },
  {
   "cell_type": "code",
   "execution_count": 16,
   "metadata": {
    "collapsed": false
   },
   "outputs": [
    {
     "data": {
      "image/png": "[encoded data removed]",
      "text/plain": [
       "<matplotlib.figure.Figure at 0x1163d3ed0>"
      ]
     },
     "metadata": {},
     "output_type": "display_data"
    }
   ],
   "source": [
    "# plt.xscale('log')\n",
    "# plt.yscale('log')\n",
    "plt.scatter(df['forks_count'], df['stars_count'])\n",
    "plt.show()\n",
    "\n",
    "#cdf fractions to analyze"
   ]
  },
  {
   "cell_type": "code",
   "execution_count": 17,
   "metadata": {
    "collapsed": false
   },
   "outputs": [
    {
     "data": {
      "image/png": "[encoded data removed]",
      "text/plain": [
       "<matplotlib.figure.Figure at 0x1163d3690>"
      ]
     },
     "metadata": {},
     "output_type": "display_data"
    }
   ],
   "source": [
    "# plt.xscale('log')\n",
    "# plt.yscale('log')\n",
    "plt.scatter(df['pull_requests_count'], df['stars_count'])\n",
    "plt.show()"
   ]
  },
  {
   "cell_type": "code",
   "execution_count": 18,
   "metadata": {
    "collapsed": false
   },
   "outputs": [
    {
     "data": {
      "image/png": "[encoded data removed]",
      "text/plain": [
       "<matplotlib.figure.Figure at 0x11721d550>"
      ]
     },
     "metadata": {},
     "output_type": "display_data"
    }
   ],
   "source": [
    "# plt.xscale('log')\n",
    "# plt.yscale('log')\n",
    "plt.scatter(df['size'], df['stars_count'])\n",
    "plt.show()"
   ]
  },
  {
   "cell_type": "code",
   "execution_count": 19,
   "metadata": {
    "collapsed": false
   },
   "outputs": [
    {
     "data": {
      "image/png": "[encoded data removed]",
      "text/plain": [
       "<matplotlib.figure.Figure at 0x11672ee50>"
      ]
     },
     "metadata": {},
     "output_type": "display_data"
    }
   ],
   "source": [
    "# plt.xscale('log')\n",
    "# plt.yscale('log')\n",
    "plt.scatter(df['contributors_count'], df['stars_count'])\n",
    "plt.show()"
   ]
  },
  {
   "cell_type": "code",
   "execution_count": 20,
   "metadata": {
    "collapsed": false
   },
   "outputs": [
    {
     "data": {
      "image/png": "[encoded data removed]",
      "text/plain": [
       "<matplotlib.figure.Figure at 0x1170e8310>"
      ]
     },
     "metadata": {},
     "output_type": "display_data"
    }
   ],
   "source": [
    "# plt.xscale('log')\n",
    "# plt.yscale('log')\n",
    "plt.scatter(df['release_count'], df['stars_count'])\n",
    "plt.show()"
   ]
  },
  {
   "cell_type": "code",
   "execution_count": 21,
   "metadata": {
    "collapsed": false
   },
   "outputs": [],
   "source": [
    "import numpy as np\n",
    "df.columns\n",
    "df.shape\n",
    "df = df.reindex(np.random.permutation(df.index))"
   ]
  },
  {
   "cell_type": "code",
   "execution_count": 22,
   "metadata": {
    "collapsed": false
   },
   "outputs": [
    {
     "data": {
      "text/plain": [
       "Index([      u'branches_count',        u'commits_count',\n",
       "               u'contributors',   u'contributors_count',\n",
       "                 u'created_at',          u'description',\n",
       "                u'forks_count',        u'has_downloads',\n",
       "               u'has_homepage',           u'has_issues',\n",
       "                  u'has_pages',             u'has_wiki',\n",
       "                         u'id', u'issue_comments_count',\n",
       "                  u'languages',     u'milestones_count',\n",
       "                       u'name',    u'open_issues_count',\n",
       "           u'primary_language',       u'projects_count',\n",
       "        u'pull_requests_count',        u'release_count',\n",
       "                       u'size',          u'stars_count',\n",
       "             u'watchers_count',             u'is_legit'],\n",
       "      dtype='object')"
      ]
     },
     "execution_count": 22,
     "metadata": {},
     "output_type": "execute_result"
    }
   ],
   "source": [
    "df.columns"
   ]
  },
  {
   "cell_type": "code",
   "execution_count": 23,
   "metadata": {
    "collapsed": false,
    "scrolled": false
   },
   "outputs": [
    {
     "ename": "NameError",
     "evalue": "name 'x_feature' is not defined",
     "output_type": "error",
     "traceback": [
      "\u001b[0;31m---------------------------------------------------\u001b[0m",
      "\u001b[0;31mNameError\u001b[0m         Traceback (most recent call last)",
      "\u001b[0;32m<ipython-input-23-a8783ee2c8f5>\u001b[0m in \u001b[0;36m<module>\u001b[0;34m()\u001b[0m\n\u001b[1;32m      4\u001b[0m \u001b[0mx_feature_test\u001b[0m \u001b[0;34m=\u001b[0m \u001b[0mdf\u001b[0m\u001b[0;34m[\u001b[0m\u001b[0mfeatures\u001b[0m\u001b[0;34m]\u001b[0m\u001b[0;34m[\u001b[0m\u001b[0;36m450\u001b[0m\u001b[0;34m:\u001b[0m\u001b[0;34m]\u001b[0m\u001b[0;34m\u001b[0m\u001b[0m\n\u001b[1;32m      5\u001b[0m \u001b[0my_feature_test\u001b[0m \u001b[0;34m=\u001b[0m \u001b[0mdf\u001b[0m\u001b[0;34m[\u001b[0m\u001b[0;34m'stars_count'\u001b[0m\u001b[0;34m]\u001b[0m\u001b[0;34m[\u001b[0m\u001b[0;36m450\u001b[0m\u001b[0;34m:\u001b[0m\u001b[0;34m]\u001b[0m\u001b[0;34m\u001b[0m\u001b[0m\n\u001b[0;32m----> 6\u001b[0;31m \u001b[0;32mprint\u001b[0m \u001b[0mx_feature\u001b[0m\u001b[0;34m.\u001b[0m\u001b[0mshape\u001b[0m\u001b[0;34m,\u001b[0m \u001b[0my_feature\u001b[0m\u001b[0;34m.\u001b[0m\u001b[0mshape\u001b[0m\u001b[0;34m\u001b[0m\u001b[0m\n\u001b[0m",
      "\u001b[0;31mNameError\u001b[0m: name 'x_feature' is not defined"
     ]
    }
   ],
   "source": [
    "features = [ 'forks_count']\n",
    "x_feature_train = df[features][:450]\n",
    "y_feature_train = df['stars_count'][:450]\n",
    "x_feature_test = df[features][450:]\n",
    "y_feature_test = df['stars_count'][450:]\n",
    "print x_feature.shape, y_feature.shape"
   ]
  },
  {
   "cell_type": "code",
   "execution_count": null,
   "metadata": {
    "collapsed": false
   },
   "outputs": [],
   "source": [
    "regr = lt()\n",
    "regr.fit(x_feature_train, y_feature_train)"
   ]
  },
  {
   "cell_type": "code",
   "execution_count": null,
   "metadata": {
    "collapsed": false
   },
   "outputs": [],
   "source": [
    "print regr.intercept_, regr.coef_"
   ]
  },
  {
   "cell_type": "code",
   "execution_count": null,
   "metadata": {
    "collapsed": false
   },
   "outputs": [],
   "source": [
    "print regr.score(x_feature_test, y_feature_test)"
   ]
  },
  {
   "cell_type": "code",
   "execution_count": null,
   "metadata": {
    "collapsed": false,
    "scrolled": true
   },
   "outputs": [],
   "source": [
    "df.head()"
   ]
  },
  {
   "cell_type": "code",
   "execution_count": 27,
   "metadata": {
    "collapsed": false
   },
   "outputs": [],
   "source": [
    "legit_df = df[df['is_legit'] == 1]\n",
    "no_legit_df = df[df['is_legit'] == 0]"
   ]
  },
  {
   "cell_type": "code",
   "execution_count": 28,
   "metadata": {
    "collapsed": false
   },
   "outputs": [
    {
     "data": {
      "text/html": [
       "<div>\n",
       "<table border=\"1\" class=\"dataframe\">\n",
       "  <thead>\n",
       "    <tr style=\"text-align: right;\">\n",
       "      <th></th>\n",
       "      <th>branches_count</th>\n",
       "      <th>commits_count</th>\n",
       "      <th>contributors_count</th>\n",
       "      <th>forks_count</th>\n",
       "      <th>has_downloads</th>\n",
       "      <th>has_homepage</th>\n",
       "      <th>has_issues</th>\n",
       "      <th>has_pages</th>\n",
       "      <th>has_wiki</th>\n",
       "      <th>id</th>\n",
       "      <th>milestones_count</th>\n",
       "      <th>open_issues_count</th>\n",
       "      <th>projects_count</th>\n",
       "      <th>pull_requests_count</th>\n",
       "      <th>release_count</th>\n",
       "      <th>size</th>\n",
       "      <th>stars_count</th>\n",
       "      <th>watchers_count</th>\n",
       "      <th>is_legit</th>\n",
       "    </tr>\n",
       "  </thead>\n",
       "  <tbody>\n",
       "    <tr>\n",
       "      <th>count</th>\n",
       "      <td>810.000000</td>\n",
       "      <td>810.000000</td>\n",
       "      <td>810.000000</td>\n",
       "      <td>810.000000</td>\n",
       "      <td>810.000000</td>\n",
       "      <td>810.000000</td>\n",
       "      <td>810.000000</td>\n",
       "      <td>810.000000</td>\n",
       "      <td>810.000000</td>\n",
       "      <td>8.100000e+02</td>\n",
       "      <td>810.000000</td>\n",
       "      <td>810.000000</td>\n",
       "      <td>810.000000</td>\n",
       "      <td>810.000000</td>\n",
       "      <td>810.000000</td>\n",
       "      <td>8.100000e+02</td>\n",
       "      <td>810.000000</td>\n",
       "      <td>810.000000</td>\n",
       "      <td>810.0</td>\n",
       "    </tr>\n",
       "    <tr>\n",
       "      <th>mean</th>\n",
       "      <td>15.888889</td>\n",
       "      <td>3832.209877</td>\n",
       "      <td>152.470370</td>\n",
       "      <td>2248.837037</td>\n",
       "      <td>0.951852</td>\n",
       "      <td>0.681481</td>\n",
       "      <td>0.953086</td>\n",
       "      <td>0.354321</td>\n",
       "      <td>0.714815</td>\n",
       "      <td>1.572067e+07</td>\n",
       "      <td>1.511111</td>\n",
       "      <td>234.874074</td>\n",
       "      <td>0.271605</td>\n",
       "      <td>36.753086</td>\n",
       "      <td>65.385185</td>\n",
       "      <td>6.281280e+04</td>\n",
       "      <td>11125.427160</td>\n",
       "      <td>11125.427160</td>\n",
       "      <td>1.0</td>\n",
       "    </tr>\n",
       "    <tr>\n",
       "      <th>std</th>\n",
       "      <td>53.062503</td>\n",
       "      <td>12079.575752</td>\n",
       "      <td>310.072582</td>\n",
       "      <td>3852.501322</td>\n",
       "      <td>0.214211</td>\n",
       "      <td>0.466190</td>\n",
       "      <td>0.211584</td>\n",
       "      <td>0.478603</td>\n",
       "      <td>0.451782</td>\n",
       "      <td>1.637445e+07</td>\n",
       "      <td>2.754118</td>\n",
       "      <td>530.601106</td>\n",
       "      <td>1.006927</td>\n",
       "      <td>184.726205</td>\n",
       "      <td>316.948152</td>\n",
       "      <td>1.990473e+05</td>\n",
       "      <td>10019.204458</td>\n",
       "      <td>10019.204458</td>\n",
       "      <td>0.0</td>\n",
       "    </tr>\n",
       "    <tr>\n",
       "      <th>min</th>\n",
       "      <td>1.000000</td>\n",
       "      <td>1.000000</td>\n",
       "      <td>1.000000</td>\n",
       "      <td>126.000000</td>\n",
       "      <td>0.000000</td>\n",
       "      <td>0.000000</td>\n",
       "      <td>0.000000</td>\n",
       "      <td>0.000000</td>\n",
       "      <td>0.000000</td>\n",
       "      <td>3.314000e+03</td>\n",
       "      <td>0.000000</td>\n",
       "      <td>0.000000</td>\n",
       "      <td>0.000000</td>\n",
       "      <td>0.000000</td>\n",
       "      <td>0.000000</td>\n",
       "      <td>4.500000e+01</td>\n",
       "      <td>5327.000000</td>\n",
       "      <td>5327.000000</td>\n",
       "      <td>1.0</td>\n",
       "    </tr>\n",
       "    <tr>\n",
       "      <th>25%</th>\n",
       "      <td>2.000000</td>\n",
       "      <td>367.000000</td>\n",
       "      <td>30.000000</td>\n",
       "      <td>700.750000</td>\n",
       "      <td>1.000000</td>\n",
       "      <td>0.000000</td>\n",
       "      <td>1.000000</td>\n",
       "      <td>0.000000</td>\n",
       "      <td>0.000000</td>\n",
       "      <td>2.248569e+06</td>\n",
       "      <td>0.000000</td>\n",
       "      <td>27.000000</td>\n",
       "      <td>0.000000</td>\n",
       "      <td>4.000000</td>\n",
       "      <td>3.000000</td>\n",
       "      <td>2.382250e+03</td>\n",
       "      <td>6262.250000</td>\n",
       "      <td>6262.250000</td>\n",
       "      <td>1.0</td>\n",
       "    </tr>\n",
       "    <tr>\n",
       "      <th>50%</th>\n",
       "      <td>4.000000</td>\n",
       "      <td>1005.000000</td>\n",
       "      <td>71.000000</td>\n",
       "      <td>1401.000000</td>\n",
       "      <td>1.000000</td>\n",
       "      <td>1.000000</td>\n",
       "      <td>1.000000</td>\n",
       "      <td>0.000000</td>\n",
       "      <td>1.000000</td>\n",
       "      <td>1.074246e+07</td>\n",
       "      <td>1.000000</td>\n",
       "      <td>85.500000</td>\n",
       "      <td>0.000000</td>\n",
       "      <td>13.500000</td>\n",
       "      <td>23.000000</td>\n",
       "      <td>8.944000e+03</td>\n",
       "      <td>8344.000000</td>\n",
       "      <td>8344.000000</td>\n",
       "      <td>1.0</td>\n",
       "    </tr>\n",
       "    <tr>\n",
       "      <th>75%</th>\n",
       "      <td>10.000000</td>\n",
       "      <td>2736.000000</td>\n",
       "      <td>172.250000</td>\n",
       "      <td>2582.500000</td>\n",
       "      <td>1.000000</td>\n",
       "      <td>1.000000</td>\n",
       "      <td>1.000000</td>\n",
       "      <td>1.000000</td>\n",
       "      <td>1.000000</td>\n",
       "      <td>2.313061e+07</td>\n",
       "      <td>2.000000</td>\n",
       "      <td>226.750000</td>\n",
       "      <td>0.000000</td>\n",
       "      <td>33.000000</td>\n",
       "      <td>61.000000</td>\n",
       "      <td>4.008500e+04</td>\n",
       "      <td>12354.500000</td>\n",
       "      <td>12354.500000</td>\n",
       "      <td>1.0</td>\n",
       "    </tr>\n",
       "    <tr>\n",
       "      <th>max</th>\n",
       "      <td>868.000000</td>\n",
       "      <td>252695.000000</td>\n",
       "      <td>5640.000000</td>\n",
       "      <td>87195.000000</td>\n",
       "      <td>1.000000</td>\n",
       "      <td>1.000000</td>\n",
       "      <td>1.000000</td>\n",
       "      <td>1.000000</td>\n",
       "      <td>1.000000</td>\n",
       "      <td>7.090548e+07</td>\n",
       "      <td>30.000000</td>\n",
       "      <td>9148.000000</td>\n",
       "      <td>13.000000</td>\n",
       "      <td>5000.000000</td>\n",
       "      <td>7020.000000</td>\n",
       "      <td>2.842284e+06</td>\n",
       "      <td>197985.000000</td>\n",
       "      <td>197985.000000</td>\n",
       "      <td>1.0</td>\n",
       "    </tr>\n",
       "  </tbody>\n",
       "</table>\n",
       "</div>"
      ],
      "text/plain": [
       "       branches_count  commits_count  contributors_count   forks_count  \\\n",
       "count      810.000000     810.000000          810.000000    810.000000   \n",
       "mean        15.888889    3832.209877          152.470370   2248.837037   \n",
       "std         53.062503   12079.575752          310.072582   3852.501322   \n",
       "min          1.000000       1.000000            1.000000    126.000000   \n",
       "25%          2.000000     367.000000           30.000000    700.750000   \n",
       "50%          4.000000    1005.000000           71.000000   1401.000000   \n",
       "75%         10.000000    2736.000000          172.250000   2582.500000   \n",
       "max        868.000000  252695.000000         5640.000000  87195.000000   \n",
       "\n",
       "       has_downloads  has_homepage  has_issues   has_pages    has_wiki  \\\n",
       "count     810.000000    810.000000  810.000000  810.000000  810.000000   \n",
       "mean        0.951852      0.681481    0.953086    0.354321    0.714815   \n",
       "std         0.214211      0.466190    0.211584    0.478603    0.451782   \n",
       "min         0.000000      0.000000    0.000000    0.000000    0.000000   \n",
       "25%         1.000000      0.000000    1.000000    0.000000    0.000000   \n",
       "50%         1.000000      1.000000    1.000000    0.000000    1.000000   \n",
       "75%         1.000000      1.000000    1.000000    1.000000    1.000000   \n",
       "max         1.000000      1.000000    1.000000    1.000000    1.000000   \n",
       "\n",
       "                 id  milestones_count  open_issues_count  projects_count  \\\n",
       "count  8.100000e+02        810.000000         810.000000      810.000000   \n",
       "mean   1.572067e+07          1.511111         234.874074        0.271605   \n",
       "std    1.637445e+07          2.754118         530.601106        1.006927   \n",
       "min    3.314000e+03          0.000000           0.000000        0.000000   \n",
       "25%    2.248569e+06          0.000000          27.000000        0.000000   \n",
       "50%    1.074246e+07          1.000000          85.500000        0.000000   \n",
       "75%    2.313061e+07          2.000000         226.750000        0.000000   \n",
       "max    7.090548e+07         30.000000        9148.000000       13.000000   \n",
       "\n",
       "       pull_requests_count  release_count          size    stars_count  \\\n",
       "count           810.000000     810.000000  8.100000e+02     810.000000   \n",
       "mean             36.753086      65.385185  6.281280e+04   11125.427160   \n",
       "std             184.726205     316.948152  1.990473e+05   10019.204458   \n",
       "min               0.000000       0.000000  4.500000e+01    5327.000000   \n",
       "25%               4.000000       3.000000  2.382250e+03    6262.250000   \n",
       "50%              13.500000      23.000000  8.944000e+03    8344.000000   \n",
       "75%              33.000000      61.000000  4.008500e+04   12354.500000   \n",
       "max            5000.000000    7020.000000  2.842284e+06  197985.000000   \n",
       "\n",
       "       watchers_count  is_legit  \n",
       "count      810.000000     810.0  \n",
       "mean     11125.427160       1.0  \n",
       "std      10019.204458       0.0  \n",
       "min       5327.000000       1.0  \n",
       "25%       6262.250000       1.0  \n",
       "50%       8344.000000       1.0  \n",
       "75%      12354.500000       1.0  \n",
       "max     197985.000000       1.0  "
      ]
     },
     "execution_count": 28,
     "metadata": {},
     "output_type": "execute_result"
    }
   ],
   "source": [
    "# focus on one language\n",
    "legit_df.describe()"
   ]
  },
  {
   "cell_type": "code",
   "execution_count": 106,
   "metadata": {
    "collapsed": false
   },
   "outputs": [
    {
     "data": {
      "text/html": [
       "<div>\n",
       "<table border=\"1\" class=\"dataframe\">\n",
       "  <thead>\n",
       "    <tr style=\"text-align: right;\">\n",
       "      <th></th>\n",
       "      <th>branches_count</th>\n",
       "      <th>commits_count</th>\n",
       "      <th>contributors_count</th>\n",
       "      <th>forks_count</th>\n",
       "      <th>has_downloads</th>\n",
       "      <th>has_homepage</th>\n",
       "      <th>has_issues</th>\n",
       "      <th>has_pages</th>\n",
       "      <th>has_wiki</th>\n",
       "      <th>id</th>\n",
       "      <th>milestones_count</th>\n",
       "      <th>open_issues_count</th>\n",
       "      <th>projects_count</th>\n",
       "      <th>pull_requests_count</th>\n",
       "      <th>release_count</th>\n",
       "      <th>size</th>\n",
       "      <th>stars_count</th>\n",
       "      <th>watchers_count</th>\n",
       "      <th>is_legit</th>\n",
       "    </tr>\n",
       "  </thead>\n",
       "  <tbody>\n",
       "    <tr>\n",
       "      <th>mean</th>\n",
       "      <td>29.625000</td>\n",
       "      <td>5931.159091</td>\n",
       "      <td>212.727273</td>\n",
       "      <td>2689.238636</td>\n",
       "      <td>0.977273</td>\n",
       "      <td>0.647727</td>\n",
       "      <td>0.977273</td>\n",
       "      <td>0.363636</td>\n",
       "      <td>0.784091</td>\n",
       "      <td>1.614149e+07</td>\n",
       "      <td>1.568182</td>\n",
       "      <td>293.215909</td>\n",
       "      <td>0.147727</td>\n",
       "      <td>43.329545</td>\n",
       "      <td>51.534091</td>\n",
       "      <td>83616.886364</td>\n",
       "      <td>10812.272727</td>\n",
       "      <td>10812.272727</td>\n",
       "      <td>0.0</td>\n",
       "    </tr>\n",
       "    <tr>\n",
       "      <th>mean</th>\n",
       "      <td>15.888889</td>\n",
       "      <td>3832.209877</td>\n",
       "      <td>152.470370</td>\n",
       "      <td>2248.837037</td>\n",
       "      <td>0.951852</td>\n",
       "      <td>0.681481</td>\n",
       "      <td>0.953086</td>\n",
       "      <td>0.354321</td>\n",
       "      <td>0.714815</td>\n",
       "      <td>1.572067e+07</td>\n",
       "      <td>1.511111</td>\n",
       "      <td>234.874074</td>\n",
       "      <td>0.271605</td>\n",
       "      <td>36.753086</td>\n",
       "      <td>65.385185</td>\n",
       "      <td>62812.798765</td>\n",
       "      <td>11125.427160</td>\n",
       "      <td>11125.427160</td>\n",
       "      <td>1.0</td>\n",
       "    </tr>\n",
       "  </tbody>\n",
       "</table>\n",
       "</div>"
      ],
      "text/plain": [
       "      branches_count  commits_count  contributors_count  forks_count  \\\n",
       "mean       29.625000    5931.159091          212.727273  2689.238636   \n",
       "mean       15.888889    3832.209877          152.470370  2248.837037   \n",
       "\n",
       "      has_downloads  has_homepage  has_issues  has_pages  has_wiki  \\\n",
       "mean       0.977273      0.647727    0.977273   0.363636  0.784091   \n",
       "mean       0.951852      0.681481    0.953086   0.354321  0.714815   \n",
       "\n",
       "                id  milestones_count  open_issues_count  projects_count  \\\n",
       "mean  1.614149e+07          1.568182         293.215909        0.147727   \n",
       "mean  1.572067e+07          1.511111         234.874074        0.271605   \n",
       "\n",
       "      pull_requests_count  release_count          size   stars_count  \\\n",
       "mean            43.329545      51.534091  83616.886364  10812.272727   \n",
       "mean            36.753086      65.385185  62812.798765  11125.427160   \n",
       "\n",
       "      watchers_count  is_legit  \n",
       "mean    10812.272727       0.0  \n",
       "mean    11125.427160       1.0  "
      ]
     },
     "execution_count": 106,
     "metadata": {},
     "output_type": "execute_result"
    }
   ],
   "source": [
    "def merge_describe_df(df1, df2, row_list):\n",
    "    \"\"\"\n",
    "    Enter two dataframes produced by the describe() method and the rows you want to keep.\n",
    "    The input dataframe order determines row order in output.\n",
    "    \"\"\"\n",
    "    ddf1 = df1.describe()\n",
    "    mean_df1_row = ddf1.iloc[row_list] # extracts the rows listed in the list\n",
    "    ddf2 = df2.describe()\n",
    "    mean_df2_row = ddf2.iloc[row_list]\n",
    "    mean_df = mean_df1_row.append(mean_df2_row)\n",
    "    return mean_df\n",
    "\n",
    "merge_describe_df(no_legit_df, legit_df, [1]) # 1 for mean, 2 for std ....\n"
   ]
  },
  {
   "cell_type": "code",
   "execution_count": 111,
   "metadata": {
    "collapsed": false
   },
   "outputs": [
    {
     "data": {
      "text/html": [
       "<div>\n",
       "<table border=\"1\" class=\"dataframe\">\n",
       "  <thead>\n",
       "    <tr style=\"text-align: right;\">\n",
       "      <th></th>\n",
       "      <th>branches_count</th>\n",
       "      <th>commits_count</th>\n",
       "      <th>contributors_count</th>\n",
       "      <th>forks_count</th>\n",
       "      <th>id</th>\n",
       "      <th>milestones_count</th>\n",
       "      <th>open_issues_count</th>\n",
       "      <th>projects_count</th>\n",
       "      <th>pull_requests_count</th>\n",
       "      <th>release_count</th>\n",
       "      <th>size</th>\n",
       "      <th>stars_count</th>\n",
       "      <th>watchers_count</th>\n",
       "    </tr>\n",
       "  </thead>\n",
       "  <tbody>\n",
       "    <tr>\n",
       "      <th>mean</th>\n",
       "      <td>194.402225</td>\n",
       "      <td>35234.611173</td>\n",
       "      <td>877.426156</td>\n",
       "      <td>12659.008242</td>\n",
       "      <td>1.441699e+07</td>\n",
       "      <td>59.018141</td>\n",
       "      <td>1386.965990</td>\n",
       "      <td>55.936487</td>\n",
       "      <td>724.660043</td>\n",
       "      <td>1000.898159</td>\n",
       "      <td>414555.546439</td>\n",
       "      <td>31994.203828</td>\n",
       "      <td>31994.203828</td>\n",
       "    </tr>\n",
       "    <tr>\n",
       "      <th>std</th>\n",
       "      <td>349.344345</td>\n",
       "      <td>88024.325108</td>\n",
       "      <td>1930.796756</td>\n",
       "      <td>30164.114320</td>\n",
       "      <td>2.098897e+07</td>\n",
       "      <td>151.444360</td>\n",
       "      <td>3143.900296</td>\n",
       "      <td>152.422493</td>\n",
       "      <td>1734.297997</td>\n",
       "      <td>2437.467456</td>\n",
       "      <td>985242.591809</td>\n",
       "      <td>67204.479072</td>\n",
       "      <td>67204.479072</td>\n",
       "    </tr>\n",
       "    <tr>\n",
       "      <th>mean</th>\n",
       "      <td>164.134952</td>\n",
       "      <td>94114.425916</td>\n",
       "      <td>349.428654</td>\n",
       "      <td>3862.340909</td>\n",
       "      <td>1.673796e+07</td>\n",
       "      <td>14.118953</td>\n",
       "      <td>755.716484</td>\n",
       "      <td>12.361524</td>\n",
       "      <td>110.369149</td>\n",
       "      <td>773.566739</td>\n",
       "      <td>505406.222606</td>\n",
       "      <td>13899.829769</td>\n",
       "      <td>13899.829769</td>\n",
       "    </tr>\n",
       "    <tr>\n",
       "      <th>std</th>\n",
       "      <td>333.271057</td>\n",
       "      <td>220013.300979</td>\n",
       "      <td>531.891632</td>\n",
       "      <td>5548.961849</td>\n",
       "      <td>2.105754e+07</td>\n",
       "      <td>30.946009</td>\n",
       "      <td>1126.197583</td>\n",
       "      <td>31.461382</td>\n",
       "      <td>162.782481</td>\n",
       "      <td>1805.222383</td>\n",
       "      <td>959930.073390</td>\n",
       "      <td>16969.698480</td>\n",
       "      <td>16969.698480</td>\n",
       "    </tr>\n",
       "  </tbody>\n",
       "</table>\n",
       "</div>"
      ],
      "text/plain": [
       "      branches_count  commits_count  contributors_count   forks_count  \\\n",
       "mean      194.402225   35234.611173          877.426156  12659.008242   \n",
       "std       349.344345   88024.325108         1930.796756  30164.114320   \n",
       "mean      164.134952   94114.425916          349.428654   3862.340909   \n",
       "std       333.271057  220013.300979          531.891632   5548.961849   \n",
       "\n",
       "                id  milestones_count  open_issues_count  projects_count  \\\n",
       "mean  1.441699e+07         59.018141        1386.965990       55.936487   \n",
       "std   2.098897e+07        151.444360        3143.900296      152.422493   \n",
       "mean  1.673796e+07         14.118953         755.716484       12.361524   \n",
       "std   2.105754e+07         30.946009        1126.197583       31.461382   \n",
       "\n",
       "      pull_requests_count  release_count           size   stars_count  \\\n",
       "mean           724.660043    1000.898159  414555.546439  31994.203828   \n",
       "std           1734.297997    2437.467456  985242.591809  67204.479072   \n",
       "mean           110.369149     773.566739  505406.222606  13899.829769   \n",
       "std            162.782481    1805.222383  959930.073390  16969.698480   \n",
       "\n",
       "      watchers_count  \n",
       "mean    31994.203828  \n",
       "std     67204.479072  \n",
       "mean    13899.829769  \n",
       "std     16969.698480  "
      ]
     },
     "execution_count": 111,
     "metadata": {},
     "output_type": "execute_result"
    }
   ],
   "source": [
    "def has_lang(lang_name):\n",
    "    \"\"\"\n",
    "    Specify a language name to only analyze repositories for that language.\n",
    "    Outputs dataframe produced by describe() method.\n",
    "    \"\"\"\n",
    "    df['has_' + lang_name] = df['languages'].apply(lambda a: lang_name in a)\n",
    "    lang_df = df[df['has_' + lang_name]]\n",
    "    return lang_df.describe()\n",
    "\n",
    "merge_describe_df(has_lang('HTML'), has_lang('C++'), [1,2])\n"
   ]
  },
  {
   "cell_type": "code",
   "execution_count": null,
   "metadata": {
    "collapsed": false
   },
   "outputs": [],
   "source": []
  },
  {
   "cell_type": "code",
   "execution_count": null,
   "metadata": {
    "collapsed": true
   },
   "outputs": [],
   "source": []
  }
 ],
 "metadata": {
  "anaconda-cloud": {},
  "kernelspec": {
   "display_name": "Python [cs489]",
   "language": "python",
   "name": "Python [cs489]"
  },
  "language_info": {
   "codemirror_mode": {
    "name": "ipython",
    "version": 2
   },
   "file_extension": ".py",
   "mimetype": "text/x-python",
   "name": "python",
   "nbconvert_exporter": "python",
   "pygments_lexer": "ipython2",
   "version": "2.7.12"
  }
 },
 "nbformat": 4,
 "nbformat_minor": 0
}
